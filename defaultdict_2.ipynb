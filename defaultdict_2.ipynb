{
 "nbformat": 4,
 "nbformat_minor": 2,
 "metadata": {
  "language_info": {
   "name": "python",
   "codemirror_mode": {
    "name": "ipython",
    "version": 2
   },
   "version": "3.7.5-final"
  },
  "orig_nbformat": 2,
  "file_extension": ".py",
  "mimetype": "text/x-python",
  "name": "python",
  "npconvert_exporter": "python",
  "pygments_lexer": "ipython2",
  "version": 2,
  "kernelspec": {
   "name": "python37564bitebdb935717024f139fa42daca5fd7a73",
   "display_name": "Python 3.7.5 64-bit"
  }
 },
 "cells": [
  {
   "cell_type": "code",
   "execution_count": 2,
   "metadata": {},
   "outputs": [],
   "source": [
    "from collections import defaultdict"
   ]
  },
  {
   "cell_type": "code",
   "execution_count": 3,
   "metadata": {},
   "outputs": [],
   "source": [
    "persons = {\n",
    "    'john': {'age': 20, 'eye_color': 'blue'},\n",
    "    'jack': {'age': 25, 'eye_color': 'brown'},\n",
    "    'jill': {'age': 22, 'eye_color': 'blue'},\n",
    "    'eric': {'age': 35},\n",
    "    'michael': {'age': 27}\n",
    "}"
   ]
  },
  {
   "cell_type": "code",
   "execution_count": 4,
   "metadata": {},
   "outputs": [],
   "source": [
    "# first approach where we are using if else condition\n",
    "eye_colors = {}\n",
    "for person, details in persons.items():\n",
    "    if 'eye_color' in details:\n",
    "        color = details['eye_color']\n",
    "    else:\n",
    "        color = 'unknown'\n",
    "    if color in eye_colors:\n",
    "        eye_colors[color].append(person)\n",
    "    else:\n",
    "        eye_colors[color] = [person]"
   ]
  },
  {
   "cell_type": "code",
   "execution_count": 5,
   "metadata": {},
   "outputs": [
    {
     "data": {
      "text/plain": "{'blue': ['john', 'jill'], 'brown': ['jack'], 'unknown': ['eric', 'michael']}"
     },
     "execution_count": 5,
     "metadata": {},
     "output_type": "execute_result"
    }
   ],
   "source": [
    "eye_colors"
   ]
  },
  {
   "cell_type": "code",
   "execution_count": 6,
   "metadata": {},
   "outputs": [],
   "source": [
    "# second approach, where we are using the get function\n",
    "eye_colors = {}\n",
    "for person, details in persons.items():\n",
    "    color = details.get('eye_color', 'unknown')\n",
    "    person_list = eye_colors.get(color, [])\n",
    "    person_list.append(person)\n",
    "    eye_colors[color] = person_list"
   ]
  },
  {
   "cell_type": "code",
   "execution_count": 7,
   "metadata": {},
   "outputs": [
    {
     "data": {
      "text/plain": "{'blue': ['john', 'jill'], 'brown': ['jack'], 'unknown': ['eric', 'michael']}"
     },
     "execution_count": 7,
     "metadata": {},
     "output_type": "execute_result"
    }
   ],
   "source": [
    "eye_colors"
   ]
  },
  {
   "cell_type": "code",
   "execution_count": 8,
   "metadata": {},
   "outputs": [],
   "source": [
    "# third approach in which we are using defaultdic\n",
    "eye_colors = defaultdict(list)\n",
    "for person, details in persons.items():\n",
    "    color = details.get('eye_color', 'unknown')\n",
    "    eye_colors[color].append(person)"
   ]
  },
  {
   "cell_type": "code",
   "execution_count": 9,
   "metadata": {},
   "outputs": [
    {
     "data": {
      "text/plain": "defaultdict(list,\n            {'blue': ['john', 'jill'],\n             'brown': ['jack'],\n             'unknown': ['eric', 'michael']})"
     },
     "execution_count": 9,
     "metadata": {},
     "output_type": "execute_result"
    }
   ],
   "source": [
    "eye_colors"
   ]
  },
  {
   "cell_type": "code",
   "execution_count": null,
   "metadata": {},
   "outputs": [],
   "source": []
  }
 ]
}